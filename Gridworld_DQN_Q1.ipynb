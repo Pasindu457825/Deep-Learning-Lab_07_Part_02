{
  "nbformat": 4,
  "nbformat_minor": 0,
  "metadata": {
    "colab": {
      "provenance": [],
      "authorship_tag": "ABX9TyM/3H2uXkfEDRcG6MYgLJ4L",
      "include_colab_link": true
    },
    "kernelspec": {
      "name": "python3",
      "display_name": "Python 3"
    },
    "language_info": {
      "name": "python"
    }
  },
  "cells": [
    {
      "cell_type": "markdown",
      "metadata": {
        "id": "view-in-github",
        "colab_type": "text"
      },
      "source": [
        "<a href=\"https://colab.research.google.com/github/Pasindu457825/Deep-Learning-Lab_07_Part_02/blob/main/Gridworld_DQN_Q1.ipynb\" target=\"_parent\"><img src=\"https://colab.research.google.com/assets/colab-badge.svg\" alt=\"Open In Colab\"/></a>"
      ]
    },
    {
      "cell_type": "code",
      "execution_count": 4,
      "metadata": {
        "colab": {
          "base_uri": "https://localhost:8080/"
        },
        "id": "QqUXOC9mMASg",
        "outputId": "123fa029-a155-4da3-8b1e-e034ae54f71b"
      },
      "outputs": [
        {
          "output_type": "stream",
          "name": "stdout",
          "text": [
            "Collecting gym==0.26.2\n",
            "  Downloading gym-0.26.2.tar.gz (721 kB)\n",
            "\u001b[2K     \u001b[90m━━━━━━━━━━━━━━━━━━━━━━━━━━━━━━━━━━━━━━━\u001b[0m \u001b[32m721.7/721.7 kB\u001b[0m \u001b[31m9.9 MB/s\u001b[0m eta \u001b[36m0:00:00\u001b[0m\n",
            "\u001b[?25h  Installing build dependencies ... \u001b[?25l\u001b[?25hdone\n",
            "  Getting requirements to build wheel ... \u001b[?25l\u001b[?25hdone\n",
            "  Preparing metadata (pyproject.toml) ... \u001b[?25l\u001b[?25hdone\n",
            "Collecting box2d-py\n",
            "  Downloading box2d-py-2.3.8.tar.gz (374 kB)\n",
            "\u001b[2K     \u001b[90m━━━━━━━━━━━━━━━━━━━━━━━━━━━━━━━━━━━━━━\u001b[0m \u001b[32m374.5/374.5 kB\u001b[0m \u001b[31m25.9 MB/s\u001b[0m eta \u001b[36m0:00:00\u001b[0m\n",
            "\u001b[?25h  Preparing metadata (setup.py) ... \u001b[?25l\u001b[?25hdone\n",
            "Requirement already satisfied: numpy>=1.18.0 in /usr/local/lib/python3.12/dist-packages (from gym==0.26.2) (2.0.2)\n",
            "Requirement already satisfied: cloudpickle>=1.2.0 in /usr/local/lib/python3.12/dist-packages (from gym==0.26.2) (3.1.1)\n",
            "Requirement already satisfied: gym_notices>=0.0.4 in /usr/local/lib/python3.12/dist-packages (from gym==0.26.2) (0.1.0)\n",
            "Building wheels for collected packages: gym, box2d-py\n",
            "  Building wheel for gym (pyproject.toml) ... \u001b[?25l\u001b[?25hdone\n",
            "  Created wheel for gym: filename=gym-0.26.2-py3-none-any.whl size=827727 sha256=b5cdaebbe91426b46d6d6a87a5fe62acb363e00c8a0a14f51aaf85d61ea05d3e\n",
            "  Stored in directory: /root/.cache/pip/wheels/95/51/6c/9bb05ebbe7c5cb8171dfaa3611f32622ca4658d53f31c79077\n",
            "  \u001b[1;31merror\u001b[0m: \u001b[1msubprocess-exited-with-error\u001b[0m\n",
            "  \n",
            "  \u001b[31m×\u001b[0m \u001b[32mpython setup.py bdist_wheel\u001b[0m did not run successfully.\n",
            "  \u001b[31m│\u001b[0m exit code: \u001b[1;36m1\u001b[0m\n",
            "  \u001b[31m╰─>\u001b[0m See above for output.\n",
            "  \n",
            "  \u001b[1;35mnote\u001b[0m: This error originates from a subprocess, and is likely not a problem with pip.\n",
            "  Building wheel for box2d-py (setup.py) ... \u001b[?25lerror\n",
            "\u001b[31m  ERROR: Failed building wheel for box2d-py\u001b[0m\u001b[31m\n",
            "\u001b[0m\u001b[?25h  Running setup.py clean for box2d-py\n",
            "Successfully built gym\n",
            "Failed to build box2d-py\n",
            "\u001b[31mERROR: ERROR: Failed to build installable wheels for some pyproject.toml based projects (box2d-py)\u001b[0m\u001b[31m\n",
            "\u001b[0mRequirement already satisfied: gymnasium[box2d] in /usr/local/lib/python3.12/dist-packages (1.2.1)\n",
            "Requirement already satisfied: numpy>=1.21.0 in /usr/local/lib/python3.12/dist-packages (from gymnasium[box2d]) (2.0.2)\n",
            "Requirement already satisfied: cloudpickle>=1.2.0 in /usr/local/lib/python3.12/dist-packages (from gymnasium[box2d]) (3.1.1)\n",
            "Requirement already satisfied: typing-extensions>=4.3.0 in /usr/local/lib/python3.12/dist-packages (from gymnasium[box2d]) (4.15.0)\n",
            "Requirement already satisfied: farama-notifications>=0.0.1 in /usr/local/lib/python3.12/dist-packages (from gymnasium[box2d]) (0.0.4)\n",
            "Collecting box2d-py==2.3.5 (from gymnasium[box2d])\n",
            "  Downloading box2d-py-2.3.5.tar.gz (374 kB)\n",
            "\u001b[2K     \u001b[90m━━━━━━━━━━━━━━━━━━━━━━━━━━━━━━━━━━━━━━━\u001b[0m \u001b[32m374.4/374.4 kB\u001b[0m \u001b[31m7.2 MB/s\u001b[0m eta \u001b[36m0:00:00\u001b[0m\n",
            "\u001b[?25h  Preparing metadata (setup.py) ... \u001b[?25l\u001b[?25hdone\n",
            "Requirement already satisfied: pygame>=2.1.3 in /usr/local/lib/python3.12/dist-packages (from gymnasium[box2d]) (2.6.1)\n",
            "Collecting swig==4.* (from gymnasium[box2d])\n",
            "  Downloading swig-4.3.1.post0-py3-none-manylinux_2_12_x86_64.manylinux2010_x86_64.whl.metadata (3.5 kB)\n",
            "Downloading swig-4.3.1.post0-py3-none-manylinux_2_12_x86_64.manylinux2010_x86_64.whl (1.9 MB)\n",
            "\u001b[2K   \u001b[90m━━━━━━━━━━━━━━━━━━━━━━━━━━━━━━━━━━━━━━━━\u001b[0m \u001b[32m1.9/1.9 MB\u001b[0m \u001b[31m41.0 MB/s\u001b[0m eta \u001b[36m0:00:00\u001b[0m\n",
            "\u001b[?25hBuilding wheels for collected packages: box2d-py\n",
            "  \u001b[1;31merror\u001b[0m: \u001b[1msubprocess-exited-with-error\u001b[0m\n",
            "  \n",
            "  \u001b[31m×\u001b[0m \u001b[32mpython setup.py bdist_wheel\u001b[0m did not run successfully.\n",
            "  \u001b[31m│\u001b[0m exit code: \u001b[1;36m1\u001b[0m\n",
            "  \u001b[31m╰─>\u001b[0m See above for output.\n",
            "  \n",
            "  \u001b[1;35mnote\u001b[0m: This error originates from a subprocess, and is likely not a problem with pip.\n",
            "  Building wheel for box2d-py (setup.py) ... \u001b[?25lerror\n",
            "\u001b[31m  ERROR: Failed building wheel for box2d-py\u001b[0m\u001b[31m\n",
            "\u001b[0m\u001b[?25h  Running setup.py clean for box2d-py\n",
            "Failed to build box2d-py\n",
            "\u001b[31mERROR: ERROR: Failed to build installable wheels for some pyproject.toml based projects (box2d-py)\u001b[0m\u001b[31m\n",
            "\u001b[0m"
          ]
        }
      ],
      "source": [
        "# if old Gym is fine:\n",
        "!pip install gym==0.26.2 box2d-py\n",
        "\n",
        "# OR with Gymnasium (newer API)\n",
        "!pip install gymnasium[box2d]"
      ]
    },
    {
      "cell_type": "code",
      "source": [
        "!pip uninstall -y box2d-py Box2D\n"
      ],
      "metadata": {
        "colab": {
          "base_uri": "https://localhost:8080/"
        },
        "id": "j9cKeN-CM3H6",
        "outputId": "ad5070e5-45fb-4d73-9cde-ce9801053cf5"
      },
      "execution_count": 6,
      "outputs": [
        {
          "output_type": "stream",
          "name": "stdout",
          "text": [
            "\u001b[33mWARNING: Skipping box2d-py as it is not installed.\u001b[0m\u001b[33m\n",
            "\u001b[0m\u001b[33mWARNING: Skipping Box2D as it is not installed.\u001b[0m\u001b[33m\n",
            "\u001b[0m"
          ]
        }
      ]
    },
    {
      "cell_type": "code",
      "source": [
        "!pip install -U box2d==2.3.10 swig==4.* pygame\n",
        "# if gymnasium isn't installed yet (you already have it, so you can skip this)\n",
        "# !pip install gymnasium[box2d]\n"
      ],
      "metadata": {
        "colab": {
          "base_uri": "https://localhost:8080/"
        },
        "id": "zELtf26mM5gg",
        "outputId": "4d20d1aa-c5b7-4d47-fb65-cafce3c12e57"
      },
      "execution_count": 7,
      "outputs": [
        {
          "output_type": "stream",
          "name": "stdout",
          "text": [
            "Collecting box2d==2.3.10\n",
            "  Downloading Box2D-2.3.10-cp312-cp312-manylinux_2_17_x86_64.manylinux2014_x86_64.whl.metadata (573 bytes)\n",
            "Collecting swig==4.*\n",
            "  Using cached swig-4.3.1.post0-py3-none-manylinux_2_12_x86_64.manylinux2010_x86_64.whl.metadata (3.5 kB)\n",
            "Requirement already satisfied: pygame in /usr/local/lib/python3.12/dist-packages (2.6.1)\n",
            "Downloading Box2D-2.3.10-cp312-cp312-manylinux_2_17_x86_64.manylinux2014_x86_64.whl (3.7 MB)\n",
            "\u001b[2K   \u001b[90m━━━━━━━━━━━━━━━━━━━━━━━━━━━━━━━━━━━━━━━━\u001b[0m \u001b[32m3.7/3.7 MB\u001b[0m \u001b[31m33.7 MB/s\u001b[0m eta \u001b[36m0:00:00\u001b[0m\n",
            "\u001b[?25hUsing cached swig-4.3.1.post0-py3-none-manylinux_2_12_x86_64.manylinux2010_x86_64.whl (1.9 MB)\n",
            "Installing collected packages: swig, box2d\n",
            "Successfully installed box2d-2.3.10 swig-4.3.1.post0\n"
          ]
        }
      ]
    },
    {
      "cell_type": "code",
      "source": [
        "import Box2D\n",
        "from Box2D import b2World\n",
        "print(\"Box2D OK\")\n"
      ],
      "metadata": {
        "colab": {
          "base_uri": "https://localhost:8080/"
        },
        "id": "G0KEFb4nM9rH",
        "outputId": "b2f24953-d18b-4faf-96ea-de897a17b0c1"
      },
      "execution_count": 8,
      "outputs": [
        {
          "output_type": "stream",
          "name": "stdout",
          "text": [
            "Box2D OK\n"
          ]
        }
      ]
    },
    {
      "cell_type": "code",
      "source": [
        "import numpy as np, random\n",
        "from collections import deque\n",
        "import matplotlib.pyplot as plt\n",
        "import torch, torch.nn as nn, torch.optim as optim\n",
        "DEVICE = torch.device(\"cuda\" if torch.cuda.is_available() else \"cpu\")\n"
      ],
      "metadata": {
        "id": "p0diLwnBMi1p"
      },
      "execution_count": 5,
      "outputs": []
    },
    {
      "cell_type": "code",
      "source": [
        "# Example ONLY if you need a placeholder\n",
        "# Replace this with *your* Gridworld class\n",
        "class GridworldEnv:\n",
        "    def __init__(self, rows=5, cols=5):\n",
        "        self.rows, self.cols = rows, cols\n",
        "        self.n_states = rows*cols\n",
        "        self.n_actions = 4  # up,right,down,left\n",
        "        self.s = 0\n",
        "        self.terminal = {24}\n",
        "    def to_id(self, r,c): return r*self.cols + c\n",
        "    def reset(self):\n",
        "        self.s = 0\n",
        "        return self.s\n",
        "    def step(self, a):\n",
        "        # TODO: replace with your real dynamics\n",
        "        self.s = min(self.s+1, self.n_states-1)\n",
        "        r = 1.0 if self.s in self.terminal else -0.01\n",
        "        done = self.s in self.terminal\n",
        "        return self.s, r, done, {}\n",
        "env = GridworldEnv()\n"
      ],
      "metadata": {
        "id": "yPk-J6giNCkf"
      },
      "execution_count": 9,
      "outputs": []
    },
    {
      "cell_type": "code",
      "source": [
        "USE_ONE_HOT = True\n",
        "state_dim = env.n_states\n",
        "n_actions = env.n_actions\n",
        "\n",
        "def to_tensor_state(s):\n",
        "    x = np.zeros(state_dim, dtype=np.float32)\n",
        "    x[int(s)] = 1.0\n",
        "    return torch.from_numpy(x).unsqueeze(0).to(DEVICE)\n",
        "\n",
        "class DQN(nn.Module):\n",
        "    def __init__(self, in_dim, out_dim):\n",
        "        super().__init__()\n",
        "        self.net = nn.Sequential(\n",
        "            nn.Linear(in_dim, 64), nn.ReLU(),\n",
        "            nn.Linear(64, 64), nn.ReLU(),\n",
        "            nn.Linear(64, out_dim)\n",
        "        )\n",
        "    def forward(self, x): return self.net(x)\n",
        "\n",
        "def act(qnet, state, epsilon):\n",
        "    if random.random() < epsilon:\n",
        "        return random.randrange(n_actions)\n",
        "    with torch.no_grad():\n",
        "        q = qnet(to_tensor_state(state))\n",
        "        return int(q.argmax(dim=1).item())\n"
      ],
      "metadata": {
        "id": "L0S79yAZNETT"
      },
      "execution_count": 10,
      "outputs": []
    },
    {
      "cell_type": "code",
      "source": [
        "def train_dqn_fixed_eps(epsilon, episodes=500, gamma=0.99, lr=1e-3):\n",
        "    qnet = DQN(state_dim, n_actions).to(DEVICE)\n",
        "    opt = optim.Adam(qnet.parameters(), lr=lr)\n",
        "    loss_fn = nn.MSELoss()\n",
        "    ep_returns = []\n",
        "\n",
        "    for ep in range(episodes):\n",
        "        s = env.reset()\n",
        "        done, ep_ret = False, 0.0\n",
        "        while not done:\n",
        "            a = act(qnet, s, epsilon)\n",
        "            s2, r, done, _ = env.step(a)\n",
        "\n",
        "            with torch.no_grad():\n",
        "                target = torch.tensor([r], dtype=torch.float32, device=DEVICE)\n",
        "                if not done:\n",
        "                    q_next = qnet(to_tensor_state(s2)).max(1).values\n",
        "                    target = target + gamma * q_next\n",
        "\n",
        "            q_pred = qnet(to_tensor_state(s))[0, a]\n",
        "            loss = loss_fn(q_pred, target)\n",
        "            opt.zero_grad(); loss.backward(); opt.step()\n",
        "\n",
        "            s, ep_ret = s2, ep_ret + r\n",
        "        ep_returns.append(ep_ret)\n",
        "    return ep_returns\n"
      ],
      "metadata": {
        "id": "N5n9HFrNNGBd"
      },
      "execution_count": 11,
      "outputs": []
    },
    {
      "cell_type": "code",
      "source": [
        "def sma(x, k=10):\n",
        "    if len(x)<k: return x\n",
        "    w = np.ones(k)/k\n",
        "    return np.convolve(x, w, mode='same')\n",
        "\n",
        "eps_list = [0.1, 0.5, 0.9]\n",
        "curves = {eps: train_dqn_fixed_eps(eps) for eps in eps_list}\n",
        "\n",
        "plt.figure(figsize=(8,4.5))\n",
        "for eps, y in curves.items():\n",
        "    plt.plot(sma(y,10), label=f\"epsilon={eps}\")\n",
        "plt.xlabel(\"Episode\"); plt.ylabel(\"Reward\")\n",
        "plt.title(\"Gridworld DQN — Epsilon comparison\")\n",
        "plt.legend(); plt.tight_layout(); plt.show()\n",
        "\n",
        "for eps, y in curves.items():\n",
        "    print(f\"epsilon={eps}: last-50 avg = {np.mean(y[-50:]):.3f}\")\n"
      ],
      "metadata": {
        "colab": {
          "base_uri": "https://localhost:8080/",
          "height": 564
        },
        "id": "YDVkijfKNHZq",
        "outputId": "724a0d20-8d94-40d3-ecf0-20c395c8f813"
      },
      "execution_count": 12,
      "outputs": [
        {
          "output_type": "stream",
          "name": "stderr",
          "text": [
            "/usr/local/lib/python3.12/dist-packages/torch/nn/modules/loss.py:616: UserWarning: Using a target size (torch.Size([1])) that is different to the input size (torch.Size([])). This will likely lead to incorrect results due to broadcasting. Please ensure they have the same size.\n",
            "  return F.mse_loss(input, target, reduction=self.reduction)\n"
          ]
        },
        {
          "output_type": "display_data",
          "data": {
            "text/plain": [
              "<Figure size 800x450 with 1 Axes>"
            ],
            "image/png": "[encoded data removed]"
          },
          "metadata": {}
        },
        {
          "output_type": "stream",
          "name": "stdout",
          "text": [
            "epsilon=0.1: last-50 avg = 0.770\n",
            "epsilon=0.5: last-50 avg = 0.770\n",
            "epsilon=0.9: last-50 avg = 0.770\n"
          ]
        }
      ]
    }
  ]
}